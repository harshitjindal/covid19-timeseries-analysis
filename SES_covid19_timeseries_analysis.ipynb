{
  "nbformat": 4,
  "nbformat_minor": 0,
  "metadata": {
    "colab": {
      "name": "SES-covid19-timeseries-analysis.ipynb",
      "provenance": [],
      "collapsed_sections": []
    },
    "kernelspec": {
      "name": "python3",
      "display_name": "Python 3"
    },
    "accelerator": "GPU"
  },
  "cells": [
    {
      "cell_type": "code",
      "metadata": {
        "id": "iI2ueWzEe36_",
        "colab_type": "code",
        "outputId": "01aede2b-8373-463f-9e16-dc29403fc076",
        "colab": {
          "base_uri": "https://localhost:8080/",
          "height": 1000
        }
      },
      "source": [
        "!pip install tensorflow==1.10.1\n",
        "!pip install numpy==1.14.5 \n",
        "\n",
        "import numpy as np\n",
        "import matplotlib.pyplot as plt\n",
        "import tensorflow as tf\n",
        "tf.enable_eager_execution()\n",
        "\n",
        "class SES(tf.keras.layers.Layer):\n",
        "    def __init__(self, dtype=tf.float32):\n",
        "        super(SES, self).__init__()\n",
        "    \n",
        "    def build(self, input_shape):\n",
        "        self.alpha = self.add_weight('alpha', shape=[1,], \n",
        "                                     initializer=tf.keras.initializers.random_uniform(0,1), \n",
        "                                     constraint=tf.keras.constraints.min_max_norm(0,1))\n",
        "        \n",
        "        self.level = self.add_weight('level', shape=[1,], \n",
        "                                     initializer=tf.keras.initializers.truncated_normal())\n",
        "        \n",
        "    def call(self, input):\n",
        "        \n",
        "        def ses(y, alpha, level):\n",
        "            '''Simple exponential smoothing using component form\n",
        "            from Forecasting: Principles and Practice - Hyndman and George Athanasopoulos'''\n",
        "            forecast = level\n",
        "            updated_level = forecast + alpha * (y - forecast)\n",
        "            return forecast, updated_level\n",
        "        \n",
        "        predictions = []\n",
        "        for time_step in range(input.shape[0]):\n",
        "            prediction, self.level = ses(input[time_step], self.alpha, self.level)\n",
        "            predictions.append(prediction)\n",
        "         \n",
        "        return tf.concat(predictions, axis=-1)\n",
        "\n",
        "# define mean squared loss function for simple exponential smoothing\n",
        "def ses_loss(prediction, y):\n",
        "    loss = tf.losses.mean_squared_error(labels=y, predictions=prediction, weights=1)\n",
        "    return loss\n",
        "\n",
        "if __name__ == \"__main__\":\n",
        "    \n",
        "    #define input series to be learned e.g. log with noise\n",
        "    y = np.log(np.arange(1,300,3))+np.random.normal(0,0.6,100)\n",
        "    \n",
        "    #define tensorflow dataset\n",
        "    y_values = tf.data.Dataset.from_tensor_slices(y).batch(batch_size=y.shape[0])\n",
        "    \n",
        "    #training parameters\n",
        "    training_epochs = 500\n",
        "    learning_rate = 0.01\n",
        "    optimizer = tf.train.AdamOptimizer(learning_rate)\n",
        "\n",
        "    loss_history = []\n",
        "    \n",
        "    #call SES layer\n",
        "    ses_layer = SES()\n",
        "\n",
        "    print('--------------------- SES training loss --------------------')\n",
        "    for epoch in range(training_epochs):\n",
        "        for yi in y_values:\n",
        "            with tf.GradientTape() as tape:\n",
        "                prediction = ses_layer(yi)\n",
        "                loss = ses_loss(prediction, yi)\n",
        "\n",
        "            loss_history.append(loss.numpy())\n",
        "            grads = tape.gradient(loss, ses_layer.trainable_weights)\n",
        "            optimizer.apply_gradients(zip(grads, ses_layer.trainable_weights), \n",
        "                                      global_step=None)\n",
        "        \n",
        "            if epoch % 20 == 0:\n",
        "                print(\"Loss at step {:03d}: {:.3f}, alpha: {:.3f}, initial level: {:.3f}\".format(epoch, loss, \n",
        "                      ses_layer.weights[0].numpy()[0],\n",
        "                      ses_layer.weights[1].numpy()[0]))\n",
        "\n",
        "    print(\"Final loss: {:.3f}\".format(loss))\n",
        "    print(\"alpha = {:.3f}, initial level = {:.3f}\".format(ses_layer.weights[0].numpy()[0], \n",
        "          ses_layer.weights[1].numpy()[0]))\n",
        "    \n",
        "    plt.title('SES of Input Series')\n",
        "    plt.plot(y)\n",
        "    plt.plot(prediction.numpy())\n",
        "    plt.grid(True)"
      ],
      "execution_count": 1,
      "outputs": [
        {
          "output_type": "stream",
          "text": [
            "Collecting tensorflow==1.10.1\n",
            "\u001b[?25l  Downloading https://files.pythonhosted.org/packages/04/7e/a484776c73b1431f2b077e13801531e966113492552194fe721e6ef88d5d/tensorflow-1.10.1-cp36-cp36m-manylinux1_x86_64.whl (58.4MB)\n",
            "\u001b[K     |████████████████████████████████| 58.4MB 49kB/s \n",
            "\u001b[?25hRequirement already satisfied: termcolor>=1.1.0 in /usr/local/lib/python3.6/dist-packages (from tensorflow==1.10.1) (1.1.0)\n",
            "Requirement already satisfied: gast>=0.2.0 in /usr/local/lib/python3.6/dist-packages (from tensorflow==1.10.1) (0.3.3)\n",
            "Requirement already satisfied: protobuf>=3.6.0 in /usr/local/lib/python3.6/dist-packages (from tensorflow==1.10.1) (3.10.0)\n",
            "Collecting tensorboard<1.11.0,>=1.10.0\n",
            "\u001b[?25l  Downloading https://files.pythonhosted.org/packages/c6/17/ecd918a004f297955c30b4fffbea100b1606c225dbf0443264012773c3ff/tensorboard-1.10.0-py3-none-any.whl (3.3MB)\n",
            "\u001b[K     |████████████████████████████████| 3.3MB 54.4MB/s \n",
            "\u001b[?25hCollecting setuptools<=39.1.0\n",
            "\u001b[?25l  Downloading https://files.pythonhosted.org/packages/8c/10/79282747f9169f21c053c562a0baa21815a8c7879be97abd930dbcf862e8/setuptools-39.1.0-py2.py3-none-any.whl (566kB)\n",
            "\u001b[K     |████████████████████████████████| 573kB 51.0MB/s \n",
            "\u001b[?25hRequirement already satisfied: grpcio>=1.8.6 in /usr/local/lib/python3.6/dist-packages (from tensorflow==1.10.1) (1.28.1)\n",
            "Collecting numpy<=1.14.5,>=1.13.3\n",
            "\u001b[?25l  Downloading https://files.pythonhosted.org/packages/68/1e/116ad560de97694e2d0c1843a7a0075cc9f49e922454d32f49a80eb6f1f2/numpy-1.14.5-cp36-cp36m-manylinux1_x86_64.whl (12.2MB)\n",
            "\u001b[K     |████████████████████████████████| 12.2MB 53.9MB/s \n",
            "\u001b[?25hRequirement already satisfied: astor>=0.6.0 in /usr/local/lib/python3.6/dist-packages (from tensorflow==1.10.1) (0.8.1)\n",
            "Requirement already satisfied: wheel>=0.26 in /usr/local/lib/python3.6/dist-packages (from tensorflow==1.10.1) (0.34.2)\n",
            "Requirement already satisfied: six>=1.10.0 in /usr/local/lib/python3.6/dist-packages (from tensorflow==1.10.1) (1.12.0)\n",
            "Requirement already satisfied: absl-py>=0.1.6 in /usr/local/lib/python3.6/dist-packages (from tensorflow==1.10.1) (0.9.0)\n",
            "Requirement already satisfied: werkzeug>=0.11.10 in /usr/local/lib/python3.6/dist-packages (from tensorboard<1.11.0,>=1.10.0->tensorflow==1.10.1) (1.0.1)\n",
            "Requirement already satisfied: markdown>=2.6.8 in /usr/local/lib/python3.6/dist-packages (from tensorboard<1.11.0,>=1.10.0->tensorflow==1.10.1) (3.2.1)\n",
            "\u001b[31mERROR: xarray 0.15.1 has requirement numpy>=1.15, but you'll have numpy 1.14.5 which is incompatible.\u001b[0m\n",
            "\u001b[31mERROR: xarray 0.15.1 has requirement setuptools>=41.2, but you'll have setuptools 39.1.0 which is incompatible.\u001b[0m\n",
            "\u001b[31mERROR: umap-learn 0.4.1 has requirement numpy>=1.15, but you'll have numpy 1.14.5 which is incompatible.\u001b[0m\n",
            "\u001b[31mERROR: spacy 2.2.4 has requirement numpy>=1.15.0, but you'll have numpy 1.14.5 which is incompatible.\u001b[0m\n",
            "\u001b[31mERROR: plotnine 0.6.0 has requirement numpy>=1.16.0, but you'll have numpy 1.14.5 which is incompatible.\u001b[0m\n",
            "\u001b[31mERROR: numba 0.48.0 has requirement numpy>=1.15, but you'll have numpy 1.14.5 which is incompatible.\u001b[0m\n",
            "\u001b[31mERROR: imgaug 0.2.9 has requirement numpy>=1.15.0, but you'll have numpy 1.14.5 which is incompatible.\u001b[0m\n",
            "\u001b[31mERROR: google-auth 1.7.2 has requirement setuptools>=40.3.0, but you'll have setuptools 39.1.0 which is incompatible.\u001b[0m\n",
            "\u001b[31mERROR: fastai 1.0.60 has requirement numpy>=1.15, but you'll have numpy 1.14.5 which is incompatible.\u001b[0m\n",
            "\u001b[31mERROR: datascience 0.10.6 has requirement folium==0.2.1, but you'll have folium 0.8.3 which is incompatible.\u001b[0m\n",
            "\u001b[31mERROR: cvxpy 1.0.31 has requirement numpy>=1.15, but you'll have numpy 1.14.5 which is incompatible.\u001b[0m\n",
            "\u001b[31mERROR: blis 0.4.1 has requirement numpy>=1.15.0, but you'll have numpy 1.14.5 which is incompatible.\u001b[0m\n",
            "\u001b[31mERROR: astropy 4.0.1.post1 has requirement numpy>=1.16, but you'll have numpy 1.14.5 which is incompatible.\u001b[0m\n",
            "\u001b[31mERROR: albumentations 0.1.12 has requirement imgaug<0.2.7,>=0.2.5, but you'll have imgaug 0.2.9 which is incompatible.\u001b[0m\n",
            "Installing collected packages: numpy, tensorboard, setuptools, tensorflow\n",
            "  Found existing installation: numpy 1.18.3\n",
            "    Uninstalling numpy-1.18.3:\n",
            "      Successfully uninstalled numpy-1.18.3\n",
            "  Found existing installation: tensorboard 2.2.1\n",
            "    Uninstalling tensorboard-2.2.1:\n",
            "      Successfully uninstalled tensorboard-2.2.1\n",
            "  Found existing installation: setuptools 46.1.3\n",
            "    Uninstalling setuptools-46.1.3:\n",
            "      Successfully uninstalled setuptools-46.1.3\n",
            "  Found existing installation: tensorflow 2.2.0rc3\n",
            "    Uninstalling tensorflow-2.2.0rc3:\n",
            "      Successfully uninstalled tensorflow-2.2.0rc3\n",
            "Successfully installed numpy-1.14.5 setuptools-39.1.0 tensorboard-1.10.0 tensorflow-1.10.1\n"
          ],
          "name": "stdout"
        },
        {
          "output_type": "display_data",
          "data": {
            "application/vnd.colab-display-data+json": {
              "pip_warning": {
                "packages": [
                  "numpy",
                  "pkg_resources"
                ]
              }
            }
          },
          "metadata": {
            "tags": []
          }
        },
        {
          "output_type": "stream",
          "text": [
            "Requirement already satisfied: numpy==1.14.5 in /usr/local/lib/python3.6/dist-packages (1.14.5)\n"
          ],
          "name": "stdout"
        },
        {
          "output_type": "stream",
          "text": [
            "/usr/local/lib/python3.6/dist-packages/tensorflow/python/framework/dtypes.py:523: FutureWarning: Passing (type, 1) or '1type' as a synonym of type is deprecated; in a future version of numpy, it will be understood as (type, (1,)) / '(1,)type'.\n",
            "  _np_qint8 = np.dtype([(\"qint8\", np.int8, 1)])\n",
            "/usr/local/lib/python3.6/dist-packages/tensorflow/python/framework/dtypes.py:524: FutureWarning: Passing (type, 1) or '1type' as a synonym of type is deprecated; in a future version of numpy, it will be understood as (type, (1,)) / '(1,)type'.\n",
            "  _np_quint8 = np.dtype([(\"quint8\", np.uint8, 1)])\n",
            "/usr/local/lib/python3.6/dist-packages/tensorflow/python/framework/dtypes.py:525: FutureWarning: Passing (type, 1) or '1type' as a synonym of type is deprecated; in a future version of numpy, it will be understood as (type, (1,)) / '(1,)type'.\n",
            "  _np_qint16 = np.dtype([(\"qint16\", np.int16, 1)])\n",
            "/usr/local/lib/python3.6/dist-packages/tensorflow/python/framework/dtypes.py:526: FutureWarning: Passing (type, 1) or '1type' as a synonym of type is deprecated; in a future version of numpy, it will be understood as (type, (1,)) / '(1,)type'.\n",
            "  _np_quint16 = np.dtype([(\"quint16\", np.uint16, 1)])\n",
            "/usr/local/lib/python3.6/dist-packages/tensorflow/python/framework/dtypes.py:527: FutureWarning: Passing (type, 1) or '1type' as a synonym of type is deprecated; in a future version of numpy, it will be understood as (type, (1,)) / '(1,)type'.\n",
            "  _np_qint32 = np.dtype([(\"qint32\", np.int32, 1)])\n",
            "/usr/local/lib/python3.6/dist-packages/tensorflow/python/framework/dtypes.py:532: FutureWarning: Passing (type, 1) or '1type' as a synonym of type is deprecated; in a future version of numpy, it will be understood as (type, (1,)) / '(1,)type'.\n",
            "  np_resource = np.dtype([(\"resource\", np.ubyte, 1)])\n"
          ],
          "name": "stderr"
        },
        {
          "output_type": "stream",
          "text": [
            "--------------------- SES training loss --------------------\n",
            "Loss at step 000: 0.540, alpha: 0.535, initial level: -0.442\n",
            "Loss at step 020: 1.079, alpha: 0.557, initial level: -0.442\n",
            "Loss at step 040: 1.079, alpha: 0.562, initial level: -0.442\n",
            "Loss at step 060: 1.080, alpha: 0.563, initial level: -0.442\n",
            "Loss at step 080: 1.080, alpha: 0.562, initial level: -0.442\n",
            "Loss at step 100: 1.080, alpha: 0.562, initial level: -0.442\n",
            "Loss at step 120: 1.080, alpha: 0.562, initial level: -0.442\n",
            "Loss at step 140: 1.080, alpha: 0.562, initial level: -0.442\n",
            "Loss at step 160: 1.080, alpha: 0.562, initial level: -0.442\n",
            "Loss at step 180: 1.080, alpha: 0.562, initial level: -0.442\n",
            "Loss at step 200: 1.080, alpha: 0.562, initial level: -0.442\n",
            "Loss at step 220: 1.080, alpha: 0.562, initial level: -0.442\n",
            "Loss at step 240: 1.080, alpha: 0.562, initial level: -0.442\n",
            "Loss at step 260: 1.080, alpha: 0.562, initial level: -0.442\n",
            "Loss at step 280: 1.080, alpha: 0.562, initial level: -0.442\n",
            "Loss at step 300: 1.080, alpha: 0.562, initial level: -0.442\n",
            "Loss at step 320: 1.080, alpha: 0.562, initial level: -0.442\n",
            "Loss at step 340: 1.080, alpha: 0.562, initial level: -0.442\n",
            "Loss at step 360: 1.080, alpha: 0.562, initial level: -0.442\n",
            "Loss at step 380: 1.080, alpha: 0.562, initial level: -0.442\n",
            "Loss at step 400: 1.080, alpha: 0.562, initial level: -0.442\n",
            "Loss at step 420: 1.080, alpha: 0.562, initial level: -0.442\n",
            "Loss at step 440: 1.080, alpha: 0.562, initial level: -0.442\n",
            "Loss at step 460: 1.080, alpha: 0.562, initial level: -0.442\n",
            "Loss at step 480: 1.080, alpha: 0.562, initial level: -0.442\n",
            "Final loss: 1.080\n",
            "alpha = 0.562, initial level = -0.442\n"
          ],
          "name": "stdout"
        },
        {
          "output_type": "display_data",
          "data": {
            "image/png": "[encoded data removed]",
            "text/plain": [
              "<Figure size 432x288 with 1 Axes>"
            ]
          },
          "metadata": {
            "tags": [],
            "needs_background": "light"
          }
        }
      ]
    }
  ]
}